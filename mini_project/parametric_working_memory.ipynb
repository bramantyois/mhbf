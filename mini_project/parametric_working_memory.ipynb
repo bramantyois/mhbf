{
    "cells": [
        {
            "cell_type": "code",
            "execution_count": 9,
            "source": [
                "\r\n",
                "import numpy as np\r\n",
                "import torch\r\n",
                "import matplotlib.pyplot as plt\r\n",
                "\r\n",
                "import seaborn as sns"
            ],
            "outputs": [],
            "metadata": {}
        },
        {
            "cell_type": "code",
            "execution_count": 10,
            "source": [
                "max_t = 75\r\n",
                "\r\n",
                "np.random.seed(5)"
            ],
            "outputs": [],
            "metadata": {}
        },
        {
            "cell_type": "code",
            "execution_count": 11,
            "source": [
                "def input_to_tensor(u):\r\n",
                "    s = u.reshape(u.shape[0], u.shape[1], 1)\r\n",
                "    return torch.from_numpy(s)\r\n",
                "\r\n",
                "def output_to_tensor(y, time_steps=1):\r\n",
                "    y_ = np.ones()\r\n",
                "\r\n",
                "    return torch.from_numpy(y.reshape(-1,time_steps))   \r\n",
                "\r\n",
                "def random_shuffle(dataset, batch_size):\r\n",
                "    n_trial = dataset['y'].shape[0]\r\n",
                "\r\n",
                "    perm = np.random.permutation(n_trial)\r\n",
                "    \r\n",
                "    num_batch = n_trial // batch_size\r\n",
                "\r\n",
                "    in_list = []\r\n",
                "    out_list = []\r\n",
                "\r\n",
                "    for i in range(num_batch):\r\n",
                "        idx = perm[i*batch_size:(i+1)*batch_size]\r\n",
                "\r\n",
                "        us = dataset['u'][:,idx]\r\n",
                "        ys = dataset['y'][idx].astype(np.float32)\r\n",
                "\r\n",
                "        in_list.append(us.copy())\r\n",
                "        out_list.append(ys.copy())\r\n",
                "\r\n",
                "    return num_batch, in_list, out_list"
            ],
            "outputs": [],
            "metadata": {}
        },
        {
            "cell_type": "code",
            "execution_count": 12,
            "source": [
                "def generate_dataset_2(num_trial, t=75, delay = 50):\r\n",
                "    set = [10,14,18,22,26,30,34]\r\n",
                "\r\n",
                "    f_min = 10\r\n",
                "    f_max = 34\r\n",
                "    \r\n",
                "    f1 = np.random.choice(set, size=num_trial)\r\n",
                "    f2 = np.random.choice(set, size=num_trial)\r\n",
                "    \r\n",
                "    u1 = (1 / (f_max - f_min))*(f1 - 0.5*(f_max + f_min))\r\n",
                "    u2 = (1 / (f_max - f_min))*(f2 - 0.5*(f_max + f_min))\r\n",
                "\r\n",
                "    u = np.zeros((t, num_trial))\r\n",
                "\r\n",
                "    win1 = [5, 10]\r\n",
                "    win2 = [win1[1] + delay, win1[1]+ delay + 10]\r\n",
                "\r\n",
                "    for i in range(num_trial):\r\n",
                "        u[win1[0]:win1[1], i] = u1[i]\r\n",
                "        u[win2[0]:win2[1], i] = u2[i]\r\n",
                "\r\n",
                "    y = (f1 - f2)/ (f_max-f_min)\r\n",
                "    \r\n",
                "\r\n",
                "    r_dict = {'u':u.astype(np.float32), 'y':y.astype(np.float32)}    \r\n",
                "    return r_dict"
            ],
            "outputs": [],
            "metadata": {}
        },
        {
            "cell_type": "code",
            "execution_count": 13,
            "source": [
                "class LowRankRNN2(torch.nn.Module):\r\n",
                "    def __init__(self, N, del_t, tau, rank=2):\r\n",
                "        super(LowRankRNN2, self).__init__()\r\n",
                "\r\n",
                "        self.m1 = torch.nn.Parameter(torch.normal(0, 0.05, (N, rank)))\r\n",
                "        self.m2 = torch.nn.Parameter(torch.normal(0, 0.05, (N, rank)))\r\n",
                "        \r\n",
                "        self.n1 = torch.nn.Parameter(torch.normal(0, 0.05, (rank, N)))\r\n",
                "        self.n2 = torch.nn.Parameter(torch.normal(0, 0.05, (rank, N)))\r\n",
                "        \r\n",
                "        #self.ms = []\r\n",
                "        #self.ns = []\r\n",
                "\r\n",
                "        ##for i in range(rank):\r\n",
                "        #   self.ms.append(torch.nn.Parameter(torch.normal(0, 0.05, (N, 1))))\r\n",
                "        #   self.ns.append(torch.nn.Parameter(torch.normal(0, 0.05, (1, N))))\r\n",
                "\r\n",
                "        self.I = torch.nn.Parameter(torch.normal(0, 0.05, (1, N)))\r\n",
                "        self.w = torch.nn.Parameter(torch.normal(0, 0.05, (N, 1)))\r\n",
                "\r\n",
                "        # self.j = torch.nn.Parameter(torch.normal(0, 0.05, (N, N)))\r\n",
                "        # self.j.requires_grad = True\r\n",
                "\r\n",
                "        self.time_mul = del_t / tau\r\n",
                "\r\n",
                "        self.N = N\r\n",
                "\r\n",
                "\r\n",
                "    def forward(self, u, x): # u->(batch, 1), x->(batch, N) \r\n",
                "\r\n",
                "        # print(j)\r\n",
                "        # for i in range(self.rank):\r\n",
                "        #     j = torch.add(j, torch.mm(self.ms[i], self.ns[i]))\r\n",
                "        #     print(j)\r\n",
                "        \r\n",
                "        j1 = torch.mm(self.m1, self.n1)\r\n",
                "        j2 = torch.mm(self.m2, self.n2)\r\n",
                "\r\n",
                "        j = torch.add(j1, j2)\r\n",
                "        j = torch.div(j, 2*self.N)\r\n",
                "\r\n",
                "        a = torch.tanh(x)\r\n",
                "        a = torch.matmul(a, j) # -> (batch, N)\r\n",
                "\r\n",
                "        # a = torch.tanh(x_t)\r\n",
                "        # a = torch.matmul(self.j, a) # -> (N, batch)\r\n",
                "\r\n",
                "        b = torch.mm(u, self.I) # -> (batch, N)\r\n",
                "\r\n",
                "        c = torch.add(a, b)\r\n",
                "        c = torch.sub(c, x)\r\n",
                "        c = torch.mul(c, self.time_mul)\r\n",
                "\r\n",
                "        xx = torch.add(x, c) # -> (batch, N)\r\n",
                "        \r\n",
                "        out = torch.mm(xx, self.w) #->(batch, 1)\r\n",
                "        out  = torch.div(out, self.N)\r\n",
                "        return out, xx\r\n",
                "\r\n",
                "    def init_x(self, batch_size=16):\r\n",
                "        return torch.normal(0, 0.05, (batch_size, self.N))"
            ],
            "outputs": [],
            "metadata": {}
        },
        {
            "cell_type": "code",
            "execution_count": 141,
            "source": [
                "def training2(lr=5e-3, num_epochs=10, n_trial = 16, batch_size=8, N=128, T=5, t_step=max_t, min_delay=25, max_delay=50):\r\n",
                "    # Low rank RNN params\r\n",
                "    tau = 100e-3\r\n",
                "    del_t = 20e-3\r\n",
                "\r\n",
                "    # Autograd Params\r\n",
                "    lr = 5e-3\r\n",
                "    rnn = LowRankRNN2(N, del_t, tau, 1)\r\n",
                "\r\n",
                "    m = torch.nn.Sigmoid()\r\n",
                "\r\n",
                "    criterion = torch.nn.MSELoss()\r\n",
                "    optimizer = torch.optim.Adam(rnn.parameters(), lr=lr)\r\n",
                "\r\n",
                "    delays = np.arange(min_delay, max_delay, step=1)\r\n",
                "\r\n",
                "    datasets = []\r\n",
                "    for delay in (delays):\r\n",
                "        datasets.append(generate_dataset_2(num_trial=n_trial, t=t_step,delay=delay))\r\n",
                "        \r\n",
                "    loss_log = []\r\n",
                "    for dataset in datasets:\r\n",
                "        for epoch in range(num_epochs):\r\n",
                "            num_batch, in_list, out_list = random_shuffle(dataset, batch_size)\r\n",
                "\r\n",
                "            for i in range(num_batch):\r\n",
                "                x_past = rnn.init_x(batch_size)\r\n",
                "                in_tensor = input_to_tensor(in_list[i])\r\n",
                "                out_tensor = output_to_tensor(out_list[i])\r\n",
                "                \r\n",
                "                outs = []\r\n",
                "                loss_sum = 0\r\n",
                "                for j in range(t_step):\r\n",
                "                    out, x_past = rnn(in_tensor[j,:,:], x_past)\r\n",
                "                    outs.append(out)\r\n",
                "\r\n",
                "                    # if j >= (t_step - T):\r\n",
                "                    #     loss = criterion(out, out_tensor)\r\n",
                "                    #     optimizer.zero_grad()\r\n",
                "                    #     loss.backward(retain_graph=True)\r\n",
                "                    #     optimizer.step()\r\n",
                "                    #     loss_sum  += loss.item()\r\n",
                "\r\n",
                "                # loss_sum = 0\r\n",
                "\r\n",
                "                for j in range(-5, 0):    \r\n",
                "                    loss = criterion(outs[j], out_tensor)  \r\n",
                "                    optimizer.zero_grad()              \r\n",
                "                    loss.backward(retain_graph=True)\r\n",
                "                    optimizer.step()\r\n",
                "                    loss_sum  += loss.item()\r\n",
                "                \r\n",
                "                loss_log.append(loss_sum/(T))\r\n",
                "\r\n",
                "            # loss = criterion(outs[j], out_tensor)\r\n",
                "            # optimizer.zero_grad()\r\n",
                "            # loss.backward()\r\n",
                "            # optimizer.step()\r\n",
                "            # loss_log.append(loss.item())\r\n",
                "           \r\n",
                "            if epoch % int(num_epochs*0.1) == 0:\r\n",
                "                print('loss: {}'.format(loss_log[-1]))\r\n",
                "            # if loss_log[-1]<5e-2:\r\n",
                "            #    break\r\n",
                "\r\n",
                "    return rnn\r\n"
            ],
            "outputs": [],
            "metadata": {}
        },
        {
            "cell_type": "code",
            "execution_count": 160,
            "source": [
                "rnn2 = training2(n_trial=256, batch_size=32, num_epochs=200, min_delay=50, max_delay=51)"
            ],
            "outputs": [
                {
                    "output_type": "stream",
                    "name": "stdout",
                    "text": [
                        "loss: 0.16956888735294343\n"
                    ]
                },
                {
                    "output_type": "error",
                    "ename": "KeyboardInterrupt",
                    "evalue": "",
                    "traceback": [
                        "\u001b[1;31m---------------------------------------------------------------------------\u001b[0m",
                        "\u001b[1;31mKeyboardInterrupt\u001b[0m                         Traceback (most recent call last)",
                        "\u001b[1;32m<ipython-input-160-2bd172d1c681>\u001b[0m in \u001b[0;36m<module>\u001b[1;34m\u001b[0m\n\u001b[1;32m----> 1\u001b[1;33m \u001b[0mrnn2\u001b[0m \u001b[1;33m=\u001b[0m \u001b[0mtraining2\u001b[0m\u001b[1;33m(\u001b[0m\u001b[0mn_trial\u001b[0m\u001b[1;33m=\u001b[0m\u001b[1;36m256\u001b[0m\u001b[1;33m,\u001b[0m \u001b[0mbatch_size\u001b[0m\u001b[1;33m=\u001b[0m\u001b[1;36m32\u001b[0m\u001b[1;33m,\u001b[0m \u001b[0mnum_epochs\u001b[0m\u001b[1;33m=\u001b[0m\u001b[1;36m200\u001b[0m\u001b[1;33m,\u001b[0m \u001b[0mmin_delay\u001b[0m\u001b[1;33m=\u001b[0m\u001b[1;36m50\u001b[0m\u001b[1;33m,\u001b[0m \u001b[0mmax_delay\u001b[0m\u001b[1;33m=\u001b[0m\u001b[1;36m51\u001b[0m\u001b[1;33m)\u001b[0m\u001b[1;33m\u001b[0m\u001b[1;33m\u001b[0m\u001b[0m\n\u001b[0m",
                        "\u001b[1;32m<ipython-input-141-6a0634d7a2fa>\u001b[0m in \u001b[0;36mtraining2\u001b[1;34m(lr, num_epochs, n_trial, batch_size, N, T, t_step, min_delay, max_delay)\u001b[0m\n\u001b[0;32m     32\u001b[0m                 \u001b[0mloss_sum\u001b[0m \u001b[1;33m=\u001b[0m \u001b[1;36m0\u001b[0m\u001b[1;33m\u001b[0m\u001b[1;33m\u001b[0m\u001b[0m\n\u001b[0;32m     33\u001b[0m                 \u001b[1;32mfor\u001b[0m \u001b[0mj\u001b[0m \u001b[1;32min\u001b[0m \u001b[0mrange\u001b[0m\u001b[1;33m(\u001b[0m\u001b[0mt_step\u001b[0m\u001b[1;33m)\u001b[0m\u001b[1;33m:\u001b[0m\u001b[1;33m\u001b[0m\u001b[1;33m\u001b[0m\u001b[0m\n\u001b[1;32m---> 34\u001b[1;33m                     \u001b[0mout\u001b[0m\u001b[1;33m,\u001b[0m \u001b[0mx_past\u001b[0m \u001b[1;33m=\u001b[0m \u001b[0mrnn\u001b[0m\u001b[1;33m(\u001b[0m\u001b[0min_tensor\u001b[0m\u001b[1;33m[\u001b[0m\u001b[0mj\u001b[0m\u001b[1;33m,\u001b[0m\u001b[1;33m:\u001b[0m\u001b[1;33m,\u001b[0m\u001b[1;33m:\u001b[0m\u001b[1;33m]\u001b[0m\u001b[1;33m,\u001b[0m \u001b[0mx_past\u001b[0m\u001b[1;33m)\u001b[0m\u001b[1;33m\u001b[0m\u001b[1;33m\u001b[0m\u001b[0m\n\u001b[0m\u001b[0;32m     35\u001b[0m                     \u001b[0mouts\u001b[0m\u001b[1;33m.\u001b[0m\u001b[0mappend\u001b[0m\u001b[1;33m(\u001b[0m\u001b[0mout\u001b[0m\u001b[1;33m)\u001b[0m\u001b[1;33m\u001b[0m\u001b[1;33m\u001b[0m\u001b[0m\n\u001b[0;32m     36\u001b[0m \u001b[1;33m\u001b[0m\u001b[0m\n",
                        "\u001b[1;32m~\\miniconda3\\envs\\py38\\lib\\site-packages\\torch\\nn\\modules\\module.py\u001b[0m in \u001b[0;36m__call__\u001b[1;34m(self, *input, **kwargs)\u001b[0m\n\u001b[0;32m    530\u001b[0m             \u001b[0mresult\u001b[0m \u001b[1;33m=\u001b[0m \u001b[0mself\u001b[0m\u001b[1;33m.\u001b[0m\u001b[0m_slow_forward\u001b[0m\u001b[1;33m(\u001b[0m\u001b[1;33m*\u001b[0m\u001b[0minput\u001b[0m\u001b[1;33m,\u001b[0m \u001b[1;33m**\u001b[0m\u001b[0mkwargs\u001b[0m\u001b[1;33m)\u001b[0m\u001b[1;33m\u001b[0m\u001b[1;33m\u001b[0m\u001b[0m\n\u001b[0;32m    531\u001b[0m         \u001b[1;32melse\u001b[0m\u001b[1;33m:\u001b[0m\u001b[1;33m\u001b[0m\u001b[1;33m\u001b[0m\u001b[0m\n\u001b[1;32m--> 532\u001b[1;33m             \u001b[0mresult\u001b[0m \u001b[1;33m=\u001b[0m \u001b[0mself\u001b[0m\u001b[1;33m.\u001b[0m\u001b[0mforward\u001b[0m\u001b[1;33m(\u001b[0m\u001b[1;33m*\u001b[0m\u001b[0minput\u001b[0m\u001b[1;33m,\u001b[0m \u001b[1;33m**\u001b[0m\u001b[0mkwargs\u001b[0m\u001b[1;33m)\u001b[0m\u001b[1;33m\u001b[0m\u001b[1;33m\u001b[0m\u001b[0m\n\u001b[0m\u001b[0;32m    533\u001b[0m         \u001b[1;32mfor\u001b[0m \u001b[0mhook\u001b[0m \u001b[1;32min\u001b[0m \u001b[0mself\u001b[0m\u001b[1;33m.\u001b[0m\u001b[0m_forward_hooks\u001b[0m\u001b[1;33m.\u001b[0m\u001b[0mvalues\u001b[0m\u001b[1;33m(\u001b[0m\u001b[1;33m)\u001b[0m\u001b[1;33m:\u001b[0m\u001b[1;33m\u001b[0m\u001b[1;33m\u001b[0m\u001b[0m\n\u001b[0;32m    534\u001b[0m             \u001b[0mhook_result\u001b[0m \u001b[1;33m=\u001b[0m \u001b[0mhook\u001b[0m\u001b[1;33m(\u001b[0m\u001b[0mself\u001b[0m\u001b[1;33m,\u001b[0m \u001b[0minput\u001b[0m\u001b[1;33m,\u001b[0m \u001b[0mresult\u001b[0m\u001b[1;33m)\u001b[0m\u001b[1;33m\u001b[0m\u001b[1;33m\u001b[0m\u001b[0m\n",
                        "\u001b[1;32m<ipython-input-13-82266725655b>\u001b[0m in \u001b[0;36mforward\u001b[1;34m(self, u, x)\u001b[0m\n\u001b[0;32m     34\u001b[0m         \u001b[1;31m#     print(j)\u001b[0m\u001b[1;33m\u001b[0m\u001b[1;33m\u001b[0m\u001b[1;33m\u001b[0m\u001b[0m\n\u001b[0;32m     35\u001b[0m \u001b[1;33m\u001b[0m\u001b[0m\n\u001b[1;32m---> 36\u001b[1;33m         \u001b[0mj1\u001b[0m \u001b[1;33m=\u001b[0m \u001b[0mtorch\u001b[0m\u001b[1;33m.\u001b[0m\u001b[0mmm\u001b[0m\u001b[1;33m(\u001b[0m\u001b[0mself\u001b[0m\u001b[1;33m.\u001b[0m\u001b[0mm1\u001b[0m\u001b[1;33m,\u001b[0m \u001b[0mself\u001b[0m\u001b[1;33m.\u001b[0m\u001b[0mn1\u001b[0m\u001b[1;33m)\u001b[0m\u001b[1;33m\u001b[0m\u001b[1;33m\u001b[0m\u001b[0m\n\u001b[0m\u001b[0;32m     37\u001b[0m         \u001b[0mj2\u001b[0m \u001b[1;33m=\u001b[0m \u001b[0mtorch\u001b[0m\u001b[1;33m.\u001b[0m\u001b[0mmm\u001b[0m\u001b[1;33m(\u001b[0m\u001b[0mself\u001b[0m\u001b[1;33m.\u001b[0m\u001b[0mm2\u001b[0m\u001b[1;33m,\u001b[0m \u001b[0mself\u001b[0m\u001b[1;33m.\u001b[0m\u001b[0mn2\u001b[0m\u001b[1;33m)\u001b[0m\u001b[1;33m\u001b[0m\u001b[1;33m\u001b[0m\u001b[0m\n\u001b[0;32m     38\u001b[0m \u001b[1;33m\u001b[0m\u001b[0m\n",
                        "\u001b[1;31mKeyboardInterrupt\u001b[0m: "
                    ]
                }
            ],
            "metadata": {}
        },
        {
            "cell_type": "code",
            "execution_count": 159,
            "source": [
                "dataset = generate_dataset_2(num_trial=1)\r\n",
                "num_batch, in_list, out_list = random_shuffle(dataset, 1)\r\n",
                "x_past = rnn2.init_x(1)\r\n",
                "outs = []\r\n",
                "for i in range(max_t):\r\n",
                "    in_tensor = torch.from_numpy(dataset['u'][i].reshape(1,1))\r\n",
                "    out, x_past = rnn2.forward(in_tensor, x_past)\r\n",
                "    outs.append(out.detach().numpy())\r\n",
                "\r\n",
                "outs= np.array(outs).ravel()\r\n",
                "\r\n",
                "plt.plot(outs)\r\n",
                "plt.axhline(dataset['y'][0], color='red')\r\n",
                "plt.plot(dataset['u'])\r\n",
                "\r\n",
                "plt.show()"
            ],
            "outputs": [
                {
                    "output_type": "display_data",
                    "data": {
                        "text/plain": [
                            "<Figure size 432x288 with 1 Axes>"
                        ],
                        "image/png": "[encoded data removed]"
                    },
                    "metadata": {
                        "needs_background": "light"
                    }
                }
            ],
            "metadata": {}
        },
        {
            "cell_type": "code",
            "execution_count": null,
            "source": [],
            "outputs": [],
            "metadata": {}
        },
        {
            "cell_type": "code",
            "execution_count": null,
            "source": [],
            "outputs": [],
            "metadata": {}
        }
    ],
    "metadata": {
        "orig_nbformat": 4,
        "language_info": {
            "name": "python",
            "version": "3.8.10",
            "mimetype": "text/x-python",
            "codemirror_mode": {
                "name": "ipython",
                "version": 3
            },
            "pygments_lexer": "ipython3",
            "nbconvert_exporter": "python",
            "file_extension": ".py"
        },
        "kernelspec": {
            "name": "python3",
            "display_name": "Python 3.8.10 64-bit ('py38': conda)"
        },
        "interpreter": {
            "hash": "941818c099361a5754e1da29e083e866870a71bc7f8f7df3a8fd48bd98ec7877"
        }
    },
    "nbformat": 4,
    "nbformat_minor": 2
}