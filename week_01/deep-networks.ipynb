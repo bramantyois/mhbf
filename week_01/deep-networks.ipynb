{
 "cells": [
  {
   "cell_type": "markdown",
   "metadata": {},
   "source": [
    "<img style=\"float: left;\" src=\"BCCN_logo_berlin.png\" width=\"120\">\n",
    "\n",
    "<h1 id=\"course-title-heading\">\n",
    "    <div style=\"text-align: right\">\n",
    "        Models of Higher Brain Functions\n",
    "        <br>Computer Course\n",
    "        <br>\n",
    "    </div>\n",
    "</h1>\n",
    "    \n",
    "---\n",
    "<div style=\"text-align: left; float: left\">\n",
    "    Lecturer: Prof. Dr. Henning Sprekeler\n",
    "</div>\n",
    "\n",
    "<div style=\"text-align: right\">\n",
    "    Assistant: Denis Alevi\n",
    "    <br>(denis.alevi@bccn-berlin.de)\n",
    "</div>\n",
    "\n"
   ]
  },
  {
   "cell_type": "markdown",
   "metadata": {},
   "source": [
    "## General exercise instructions\n",
    "The solutions for these exercises (comprising source code, discussion and interpretation in this Jupyter Notebook) should be handed in as a single `.zip` file through the Moodle interface, such that this Jupyter Notebook can be successfully run from the unzipped directory (meaning that e.g. `./helper.py` should be included in the folder).\n",
    "Submission deadline is the start of the next lectue (**10:15 am on Fridays**).\n",
    "\n",
    "Before you turn this problem in, make sure everything runs as expected. First, **restart the kernel** (in the menubar, select Kernel$\\rightarrow$Restart) and then **run all cells** (in the menubar, select Cell$\\rightarrow$Run All).\n",
    "\n",
    "Some of the exercises will be automatically graded. Make sure that you:\n",
    "1. Fill in any place that says `YOUR CODE HERE` or \"YOUR ANSWER HERE\"\n",
    "2. Remove all `raise NotImplementedError` lines once you inserted your solution\n",
    "3. Don't use variable names starting with underscore (e.g. `_myvar`) in your code, which could interfere with the automatic grading system.\n",
    "\n",
    "Before you start, please fill in below your names and the name of your group as shown on Moodle. Example:\n",
    "```\n",
    "NAMES = [\"Martina Musterfrau\", \"John Smith\"]\n",
    "GROUP = \"A\"\n",
    "```"
   ]
  },
  {
   "cell_type": "code",
   "execution_count": 1,
   "metadata": {},
   "outputs": [],
   "source": [
    "NAMES = [\"Bramantyo Supriyatno\", \"\"]\n",
    "GROUP = \"\""
   ]
  },
  {
   "cell_type": "code",
   "execution_count": 2,
   "metadata": {},
   "outputs": [],
   "source": [
    "# These are a few tests to make sure that your installed Python software is not too old\n",
    "import sys\n",
    "assert sys.version_info.major >= 3, \"Your Python version is too old, please update it.\"\n",
    "\n",
    "import IPython\n",
    "assert IPython.version_info[0] >= 3, \"Your IPython version is too old, please update it.\""
   ]
  },
  {
   "cell_type": "markdown",
   "metadata": {
    "toc": true
   },
   "source": [
    "<h1>Table of contents<span class=\"tocSkip\"></span></h1>\n",
    "<div class=\"toc\"><ul class=\"toc-item\"><li><span><a href=\"#Exercise-1:-Singular-Value-Mode-Convergence-(10-points)\" data-toc-modified-id=\"Exercise-1:-Singular-Value-Mode-Convergence-(10-points)-1\">Exercise 1: Singular Value Mode Convergence (10 points)</a></span><ul class=\"toc-item\"><li><span><a href=\"#1.1:-Implement-the-weight-updates\" data-toc-modified-id=\"1.1:-Implement-the-weight-updates-1.1\">1.1: Implement the weight updates</a></span><ul class=\"toc-item\"><li><span><a href=\"#1.1-a)-Define-the-covariance-matrices-and-their-SVD-(1-point)\" data-toc-modified-id=\"1.1-a)-Define-the-covariance-matrices-and-their-SVD-(1-point)-1.1.1\">1.1 a) Define the covariance matrices and their SVD (1 point)</a></span></li><li><span><a href=\"#1.1-b)-Implement-weight-updates-for-a-deep-network-(1-point)\" data-toc-modified-id=\"1.1-b)-Implement-weight-updates-for-a-deep-network-(1-point)-1.1.2\">1.1 b) Implement weight updates for a <em>deep</em> network (1 point)</a></span></li><li><span><a href=\"#1.1-c)-Implement-weight-update-for-a-shallow-network-(1-point)\" data-toc-modified-id=\"1.1-c)-Implement-weight-update-for-a-shallow-network-(1-point)-1.1.3\">1.1 c) Implement weight update for a <em>shallow</em> network (1 point)</a></span></li></ul></li><li><span><a href=\"#1.2:-Simulate-learning-and-singular-value-mode-dynamics\" data-toc-modified-id=\"1.2:-Simulate-learning-and-singular-value-mode-dynamics-1.2\">1.2: Simulate learning and singular value mode dynamics</a></span><ul class=\"toc-item\"><li><span><a href=\"#1.2-a)-Integrate-the-weight-dynamics-(2-point)\" data-toc-modified-id=\"1.2-a)-Integrate-the-weight-dynamics-(2-point)-1.2.1\">1.2 a) Integrate the weight dynamics (2 point)</a></span></li><li><span><a href=\"#1.2-b)-Plot-singular-values-modes-(1-point)\" data-toc-modified-id=\"1.2-b)-Plot-singular-values-modes-(1-point)-1.2.2\">1.2 b) Plot singular values modes (1 point)</a></span></li><li><span><a href=\"#1.2-c)-Discuss-your-results-(1-point)\" data-toc-modified-id=\"1.2-c)-Discuss-your-results-(1-point)-1.2.3\">1.2 c) Discuss your results (1 point)</a></span></li></ul></li><li><span><a href=\"#1.3-Compare-simulation-and-theory\" data-toc-modified-id=\"1.3-Compare-simulation-and-theory-1.3\">1.3 Compare simulation and theory</a></span><ul class=\"toc-item\"><li><span><a href=\"#1.3-a)-Implement-the-analytical-solutions-(1-point)\" data-toc-modified-id=\"1.3-a)-Implement-the-analytical-solutions-(1-point)-1.3.1\">1.3 a) Implement the analytical solutions (1 point)</a></span></li><li><span><a href=\"#1.3-b)-Plot-analytical-and-empirical-singulare-value-dynamics-(1-point)\" data-toc-modified-id=\"1.3-b)-Plot-analytical-and-empirical-singulare-value-dynamics-(1-point)-1.3.2\">1.3 b) Plot analytical and empirical singulare value dynamics (1 point)</a></span></li><li><span><a href=\"#1.3-c)-Discuss-your-results-(1-point)\" data-toc-modified-id=\"1.3-c)-Discuss-your-results-(1-point)-1.3.3\">1.3 c) Discuss your results (1 point)</a></span></li></ul></li></ul></li><li><span><a href=\"#Exercise-2:-Deeper-(non-)linear-networks-with-automatic-differentiation-(10-points)\" data-toc-modified-id=\"Exercise-2:-Deeper-(non-)linear-networks-with-automatic-differentiation-(10-points)-2\">Exercise 2: Deeper (non-)linear networks with automatic differentiation (10 points)</a></span><ul class=\"toc-item\"><li><span><a href=\"#2.0-Data-generation-and-PyTorch-examples-(0-points)\" data-toc-modified-id=\"2.0-Data-generation-and-PyTorch-examples-(0-points)-2.1\">2.0 Data generation and PyTorch examples (0 points)</a></span><ul class=\"toc-item\"><li><span><a href=\"#2.0-a)-Generating-data-with-DiffuseTreeSampler\" data-toc-modified-id=\"2.0-a)-Generating-data-with-DiffuseTreeSampler-2.1.1\">2.0 a) Generating data with <code>DiffuseTreeSampler</code></a></span></li><li><span><a href=\"#2.0-b)-PyTorch-example-for-a-feedforward-neural-network\" data-toc-modified-id=\"2.0-b)-PyTorch-example-for-a-feedforward-neural-network-2.1.2\">2.0 b) PyTorch example for a feedforward neural network</a></span></li></ul></li><li><span><a href=\"#2.1:-Implement-a-variable-depth-deep-linear-network-(1-point)\" data-toc-modified-id=\"2.1:-Implement-a-variable-depth-deep-linear-network-(1-point)-2.2\">2.1: Implement a variable depth deep linear network (1 point)</a></span></li><li><span><a href=\"#2.2:-Define-the-online-gradient-descent-training-loop-(3-points)\" data-toc-modified-id=\"2.2:-Define-the-online-gradient-descent-training-loop-(3-points)-2.3\">2.2: Define the online gradient descent training loop (3 points)</a></span></li><li><span><a href=\"#2.3-Generate-a-data-set-and-train-your-deep-linear-network-(3-points):\" data-toc-modified-id=\"2.3-Generate-a-data-set-and-train-your-deep-linear-network-(3-points):-2.4\">2.3 Generate a data set and train your deep linear network (3 points):</a></span></li><li><span><a href=\"#2.4-Train-a-deep-non-linear-network-(3-points)\" data-toc-modified-id=\"2.4-Train-a-deep-non-linear-network-(3-points)-2.5\">2.4 Train a deep non-linear network (3 points)</a></span></li></ul></li></ul></div>"
   ]
  },
  {
   "cell_type": "markdown",
   "metadata": {
    "deletable": false,
    "editable": false,
    "nbgrader": {
     "cell_type": "markdown",
     "checksum": "611b4f94717347097fff600489bfcf9e",
     "grade": false,
     "grade_id": "cell-c35a5a0c587f76c1",
     "locked": true,
     "schema_version": 3,
     "solution": false,
     "task": false
    }
   },
   "source": [
    "# Week 1: Learning Dynamics in Deep Linear Networks"
   ]
  },
  {
   "cell_type": "code",
   "execution_count": 3,
   "metadata": {
    "deletable": false,
    "editable": false,
    "nbgrader": {
     "cell_type": "code",
     "checksum": "c341d67882ca97f63027c5bf82ce3de9",
     "grade": false,
     "grade_id": "cell-78346dc3a8730613",
     "locked": true,
     "schema_version": 3,
     "solution": false,
     "task": false
    }
   },
   "outputs": [],
   "source": [
    "# Necessary imports for this exercise, you can't modify these\n",
    "import numpy as np\n",
    "import matplotlib.pyplot as plt\n",
    "\n",
    "# Import assert function defined in the ./helpers.py file\n",
    "from helpers import assert_var_defined"
   ]
  },
  {
   "cell_type": "code",
   "execution_count": 4,
   "metadata": {},
   "outputs": [],
   "source": [
    "# You can add your additional package imports here\n",
    "\n",
    "# Create plots inline in the Jupyter notebook\n",
    "%matplotlib inline"
   ]
  },
  {
   "cell_type": "markdown",
   "metadata": {
    "deletable": false,
    "editable": false,
    "nbgrader": {
     "cell_type": "markdown",
     "checksum": "670d821a390cce4b0c4d2fa27d4730dd",
     "grade": false,
     "grade_id": "cell-a32f789a8f18fba8",
     "locked": true,
     "schema_version": 3,
     "solution": false,
     "task": false
    }
   },
   "source": [
    "## Exercise 1: Singular Value Mode Convergence (10 points)\n",
    "\n",
    "This exercise provides computational insights into the learning dynamics in a *deep* linear network \\& contrasts them with a *shallow* network. The content of this exercise sheet is closely connected to the analytical exercise sheet, where the equations used here are derived. Read throught the analytical exercise sheet once before starting this one (even if you don't intend to hand in the analytical exercise).\n",
    "\n",
    "For the first exercise you are given a set of feature and target covariance matrices:\n",
    "\n",
    "\\begin{align*}\n",
    "\t\\mathbb{E}[xx^T] = \\Sigma^{x} =\n",
    "\t\\begin{bmatrix}\n",
    "    1 & 0 & 0 & 0 \\\\\n",
    "    0 & 1 & 0 & 0\\\\\n",
    "\t0 & 0 & 1 & 0\\\\\n",
    "\t0 & 0 & 0 & 1\\\\\n",
    "    \\end{bmatrix} \\ \\ \\text{   and   } \\ \\\n",
    "\t\\mathbb{E}[yx^T] = \\Sigma^{yx} = \\begin{bmatrix}\n",
    "    1 & 1 & 1 & 1 \\\\\n",
    "    1 & 1 & 0 & 0 \\\\\n",
    "    0 & 0 & 1 & 1 \\\\\n",
    "    1 & 0 & 0 & 0 \\\\\n",
    "    0 & 1 & 0 & 0 \\\\\n",
    "    0 & 0 & 1 & 0 \\\\\n",
    "    0 & 0 & 0 & 1 \\\\\n",
    "    \\end{bmatrix} \\ .\n",
    "\\end{align*}\n",
    "\n",
    "Throughout this exercise the *deep* linear network is defined to have a single hidden layer with 16 hidden units and $W^1 \\in \\mathbb{R}^{16 \\times 4}$ and $W^2 \\in \\mathbb{R}^{7 \\times 16}$:\n",
    "\n",
    "$$\\hat{y} = W^2 W^1 x \\ ,$$\n",
    "\n",
    "while the *shallow* network is a simple input-output mapping without any hidden layers and $W^{\\text{shallow}} \\in \\mathbb{R}^{7 \\times 4}$:\n",
    "\n",
    "$$\\hat{y} = W^{\\text{shallow}}x \\ .$$\n",
    "\n",
    "Furthermore, the singular value decomposition of the input-output covariance matrix can be written as:\n",
    "\n",
    "$$\\Sigma^{yx} = U S V^T \\ ,$$\n",
    "\n",
    "where $S \\in \\mathbb{R}^{4 \\times 4}$ denotes the singular value diagonal matrix with non-zero elements $s_\\alpha, \\alpha=1, \\dots, 4$."
   ]
  },
  {
   "cell_type": "markdown",
   "metadata": {
    "deletable": false,
    "editable": false,
    "nbgrader": {
     "cell_type": "markdown",
     "checksum": "c0c459369ac183fc2a4ebdac329ad829",
     "grade": false,
     "grade_id": "instructions_1-1",
     "locked": true,
     "schema_version": 3,
     "solution": false,
     "task": false
    }
   },
   "source": [
    "### 1.1: Implement the weight updates\n",
    "\n",
    "First, you will implement the mean weight update equations in the continuous time limit using forward Euler integration.\n",
    "\n",
    "The mean weight update equations for the *deep* network are:\n",
    "\n",
    "\\begin{align}\n",
    "\\tau \\frac{d}{dt} W^1 &= W^{2^T} (\\Sigma^{yx} - W^2 W^1 \\Sigma^x) \\\\\\\\\n",
    "\\tau \\frac{d}{dt} W^2 &= (\\Sigma^{yx} - W^2 W^1 \\Sigma^x)W^{1^T}\n",
    "\\end{align}\n",
    "\n",
    "And for the *shallow* network:\n",
    "\n",
    "\\begin{align}\n",
    "\\tau \\frac{d}{dt} W^{\\text{shallow}} &= \\Sigma^{yx} - W^{\\text{shallow}} \\Sigma^x\n",
    "\\end{align}\n",
    "\n",
    "To understand where the update equations come from, have a look at the analytical exercise sheet."
   ]
  },
  {
   "cell_type": "markdown",
   "metadata": {
    "deletable": false,
    "editable": false,
    "nbgrader": {
     "cell_type": "markdown",
     "checksum": "8e3ba731f57557a83d7a4247f51eed7f",
     "grade": false,
     "grade_id": "instructions_1-1-a",
     "locked": true,
     "schema_version": 3,
     "solution": false,
     "task": false
    }
   },
   "source": [
    "#### 1.1 a) Define the covariance matrices and their SVD (1 point)\n",
    "Define two variables `sigma_x` and `sigma_yx` for the covariance matrices $\\Sigma^x$ and $\\Sigma^{yx}$. Then compute the singular value decomposition (SVD) of the input-output covariance matrix (e.g. by using [`np.linalg.svd`](https://numpy.org/doc/stable/reference/generated/numpy.linalg.svd.html)). Store the resulting singular value diagonal matrix $S$ in a variable called `s` (lower case).\n",
    "\n",
    "This task will be automatically graded. Please make sure that you use the variable names as instructed here and that you delete the `raise NotImplementedError()` line."
   ]
  },
  {
   "cell_type": "code",
   "execution_count": 5,
   "metadata": {
    "deletable": false,
    "nbgrader": {
     "cell_type": "code",
     "checksum": "64e43377e95dd7757a114816dcef8322",
     "grade": false,
     "grade_id": "cell-d49058ec16985ebf",
     "locked": false,
     "schema_version": 3,
     "solution": true,
     "task": false
    }
   },
   "outputs": [
    {
     "ename": "NotImplementedError",
     "evalue": "",
     "output_type": "error",
     "traceback": [
      "\u001b[1;31m---------------------------------------------------------------------------\u001b[0m",
      "\u001b[1;31mNotImplementedError\u001b[0m                       Traceback (most recent call last)",
      "\u001b[1;32m<ipython-input-5-15b94d1fa268>\u001b[0m in \u001b[0;36m<module>\u001b[1;34m\u001b[0m\n\u001b[0;32m      1\u001b[0m \u001b[1;31m# YOUR CODE HERE\u001b[0m\u001b[1;33m\u001b[0m\u001b[1;33m\u001b[0m\u001b[1;33m\u001b[0m\u001b[0m\n\u001b[1;32m----> 2\u001b[1;33m \u001b[1;32mraise\u001b[0m \u001b[0mNotImplementedError\u001b[0m\u001b[1;33m(\u001b[0m\u001b[1;33m)\u001b[0m\u001b[1;33m\u001b[0m\u001b[1;33m\u001b[0m\u001b[0m\n\u001b[0m",
      "\u001b[1;31mNotImplementedError\u001b[0m: "
     ]
    }
   ],
   "source": [
    "# YOUR CODE HERE\n",
    "raise NotImplementedError()"
   ]
  },
  {
   "cell_type": "markdown",
   "metadata": {
    "deletable": false,
    "editable": false,
    "nbgrader": {
     "cell_type": "markdown",
     "checksum": "c9829d9047e4617497632e759542e3b0",
     "grade": false,
     "grade_id": "cell-4f4adcd4f290d20c",
     "locked": true,
     "schema_version": 3,
     "solution": false,
     "task": false
    }
   },
   "source": [
    "The following code cell will check if you defined the correct variable names. Run it to make sure you did."
   ]
  },
  {
   "cell_type": "code",
   "execution_count": null,
   "metadata": {
    "deletable": false,
    "editable": false,
    "nbgrader": {
     "cell_type": "code",
     "checksum": "5255003a6e04dde3c06b130e5998cf78",
     "grade": true,
     "grade_id": "cell-e35d86e0a4a6d6d6",
     "locked": true,
     "points": 1,
     "schema_version": 3,
     "solution": false,
     "task": false
    }
   },
   "outputs": [],
   "source": [
    "\"\"\" Test that variables `sigma_x`, `sigma_yx` and `s` are defined \"\"\"\n",
    "\n",
    "for varname in [\"sigma_x\", \"sigma_yx\", \"s\"]:\n",
    "    assert_var_defined(varname)\n",
    "    "
   ]
  },
  {
   "cell_type": "markdown",
   "metadata": {
    "deletable": false,
    "editable": false,
    "nbgrader": {
     "cell_type": "markdown",
     "checksum": "4382a9ad3c14b7f0b90613fd763bee74",
     "grade": false,
     "grade_id": "cell-e21e2cbd0f6e65d5",
     "locked": true,
     "schema_version": 3,
     "solution": false,
     "task": false
    }
   },
   "source": [
    "#### 1.1 b) Implement weight updates for a *deep* network (1 point)\n",
    "Implement the weight updates for the *deep* linear network in the function `update_deep_network_weights` below (don't change the order of function arguments and return values)."
   ]
  },
  {
   "cell_type": "code",
   "execution_count": null,
   "metadata": {
    "deletable": false,
    "nbgrader": {
     "cell_type": "code",
     "checksum": "be229d4d303c9cd207707ae96b33ca08",
     "grade": false,
     "grade_id": "update_linear_network",
     "locked": false,
     "schema_version": 3,
     "solution": true,
     "task": false
    }
   },
   "outputs": [],
   "source": [
    "def update_deep_network_weights(w1, w2, dt, tau, sigma_x, sigma_yx):\n",
    "    \"\"\"\n",
    "    Update the deep network weights for one integration time step.\n",
    "    \n",
    "    Parameters\n",
    "    ----------\n",
    "    w1 : numpy.ndarray\n",
    "        W1 weight matrix, connecting input to hidden layer\n",
    "    w2 : numpy.ndarray\n",
    "        W2 weight matrix, connection hidden to output layer\n",
    "    dt : float\n",
    "        Integration time step for forward Euler\n",
    "    tau : float\n",
    "        Time constant of the weight changes (inverse of learning rate)\n",
    "    sigma_x : numpy.ndarray\n",
    "        Input covariance matrix\n",
    "    sigma_yx : numpy.ndarray\n",
    "        Input-output covariance matrix\n",
    "        \n",
    "    Returns\n",
    "    -------\n",
    "    w1_updated : numpy.ndarray\n",
    "        Updated weight matrix W1\n",
    "    w2_updated : numpy.ndarray\n",
    "        Updated weight matrix W2\n",
    "    \"\"\"\n",
    "    \n",
    "    # YOUR CODE HERE\n",
    "    raise NotImplementedError()\n",
    "    \n",
    "    return w1_updated, w2_updated"
   ]
  },
  {
   "cell_type": "code",
   "execution_count": null,
   "metadata": {
    "deletable": false,
    "editable": false,
    "nbgrader": {
     "cell_type": "code",
     "checksum": "9f9bbce08405027b1f2469619297f838",
     "grade": true,
     "grade_id": "cell-1fa960487c3d2159",
     "locked": true,
     "points": 1,
     "schema_version": 3,
     "solution": false,
     "task": false
    }
   },
   "outputs": [],
   "source": [
    "\"\"\" Test that the function is defined as instructed \"\"\"\n",
    "\n",
    "assert_var_defined(\"update_deep_network_weights\", func=True)\n"
   ]
  },
  {
   "cell_type": "markdown",
   "metadata": {
    "deletable": false,
    "editable": false,
    "nbgrader": {
     "cell_type": "markdown",
     "checksum": "100a4b2b93ca5435098503511c310f78",
     "grade": false,
     "grade_id": "cell-1cf561e74e4e5b8b",
     "locked": true,
     "schema_version": 3,
     "solution": false,
     "task": false
    }
   },
   "source": [
    "#### 1.1 c) Implement weight update for a *shallow* network (1 point)\n",
    "Implement the weights updates for the *shallow* linear network in the function `update_deep_shallow_weights` below (don't change the the order of function arguments and return values)."
   ]
  },
  {
   "cell_type": "code",
   "execution_count": null,
   "metadata": {
    "deletable": false,
    "nbgrader": {
     "cell_type": "code",
     "checksum": "a8cf83b8058ada04a8a4a51da517e79c",
     "grade": false,
     "grade_id": "update_shallow_network",
     "locked": false,
     "schema_version": 3,
     "solution": true,
     "task": false
    }
   },
   "outputs": [],
   "source": [
    "def update_shallow_network_weights(w, dt, tau, sgima_x, sigma_yx):\n",
    "    \"\"\"\n",
    "    Update the shallow network weights for one integration time step.\n",
    "    \n",
    "    Parameters\n",
    "    ----------\n",
    "    w : numpy.ndarray\n",
    "        W_shallow weight matrix, connecting input to hidden layer\n",
    "    dt : float\n",
    "        Integration time step for forward Euler\n",
    "    tau : float\n",
    "        Time constant of the weight changes (inverse of learning rate)\n",
    "    sigma_x : numpy.ndarray\n",
    "        Input covariance matrix\n",
    "    sigma_yx : numpy.ndarray\n",
    "        Input-output covariance matrix\n",
    "        \n",
    "    Returns\n",
    "    -------\n",
    "    w_updated : numpy.ndarray\n",
    "        Updated weight matrix W_shallow\n",
    "    \"\"\"\n",
    "    \n",
    "    # YOUR CODE HERE\n",
    "    raise NotImplementedError()\n",
    "    \n",
    "    return w_updated"
   ]
  },
  {
   "cell_type": "code",
   "execution_count": null,
   "metadata": {
    "deletable": false,
    "editable": false,
    "nbgrader": {
     "cell_type": "code",
     "checksum": "34f0a89f43c8bc62d3ad2d19e24fe74e",
     "grade": true,
     "grade_id": "cell-f9710997e41dd938",
     "locked": true,
     "points": 1,
     "schema_version": 3,
     "solution": false,
     "task": false
    }
   },
   "outputs": [],
   "source": [
    "\"\"\" Test that the function is defined as instructed \"\"\"\n",
    "\n",
    "assert_var_defined(\"update_shallow_network_weights\", func=True)\n"
   ]
  },
  {
   "cell_type": "markdown",
   "metadata": {
    "deletable": false,
    "editable": false,
    "nbgrader": {
     "cell_type": "markdown",
     "checksum": "f88218be6bbea969b58e18a19199ebb8",
     "grade": false,
     "grade_id": "instructions_1-2",
     "locked": true,
     "schema_version": 3,
     "solution": false,
     "task": false
    }
   },
   "source": [
    "### 1.2: Simulate learning and singular value mode dynamics\n",
    "\n",
    "For the special case of no input correlations ($\\Sigma^X$ is the unit matrix in our example), we get the following fixed point conditions (marked by $*$) from the weight update equations (to see this, set $\\frac{d}{dt} = 0$):\n",
    "\n",
    "- For the *deep* network:\n",
    "\n",
    "$$\n",
    "W^{2,*}W^{1,*} = \\Sigma^{yx} \\\\\n",
    "$$\n",
    "    \n",
    "- For the *shallow* network:\n",
    "\n",
    "$$\n",
    "W^{\\text{shallow},*} = \\Sigma^{yx} \\\\\n",
    "$$\n",
    "    \n",
    "That means the linear network's input-output mapping learns the input-output covariance structure. To investigate the singular value mode dynamics, we can compute the SVDs on the covariance matrix $\\Sigma^{\\hat{y}x}(t)$ between the inputs $x$ and the predicted outputs $\\hat{y}$ at a given time $t$ during learning:\n",
    "\n",
    "- For the *deep* network, this corresponds to the SVD of the matrix product $W^2(t)W^1(t)$:\n",
    "\n",
    "$$\n",
    "\\Sigma^{\\hat{y}x} = W^2(t)W^1(t) = U A(t) V^T \\\\\n",
    "$$\n",
    "    \n",
    "- For the *shallow* network, this corresponds to the SVD of the matrix $W^{\\text{shallow}}$:\n",
    "\n",
    "$$\n",
    "\\Sigma^{\\hat{y}x} = W^{\\text{shallow}}(t) = U B(t) V^T \\\\\n",
    "$$\n",
    "\n",
    "This gives us the singular value modes $a_\\alpha(t)$ and $b_\\alpha(t)$, which are the diagonal elements of the diagonal matrices $A(t)$ and $B(t)$ ($\\alpha = 1, ... 4$).\n",
    "       "
   ]
  },
  {
   "cell_type": "markdown",
   "metadata": {
    "deletable": false,
    "editable": false,
    "nbgrader": {
     "cell_type": "markdown",
     "checksum": "15c1071b3dd3ce0416178d7e33765f6d",
     "grade": false,
     "grade_id": "instructions_1-2-a",
     "locked": true,
     "schema_version": 3,
     "solution": false,
     "task": false
    }
   },
   "source": [
    "#### 1.2 a) Integrate the weight dynamics (2 point)\n",
    "Perform weight updates in the *deep* and *shallow* networks for the given covariance matrices $\\Sigma^{x}$ and $\\Sigma^{yx}$ (use the functions defined in 1.1). Start with Gaussian initialised weight matrices (with mean $\\mu = 0$ and standard deviation $\\sigma = 0.01$). Set the time constant $\\tau = 1/\\eta$ with learning rate $\\eta=0.4$ and integrate for a total time $T = 15$. After each update of the weight matrices, compute the singular value modes $a_\\alpha(t)$ and $b_\\alpha(t)$."
   ]
  },
  {
   "cell_type": "code",
   "execution_count": null,
   "metadata": {
    "deletable": false,
    "nbgrader": {
     "cell_type": "code",
     "checksum": "2a3455dfc8239da9a60a6ed59f4cc985",
     "grade": true,
     "grade_id": "cell-624c126f6b919f68",
     "locked": false,
     "points": 2,
     "schema_version": 3,
     "solution": true,
     "task": false
    }
   },
   "outputs": [],
   "source": [
    "# YOUR CODE HERE\n",
    "raise NotImplementedError()"
   ]
  },
  {
   "cell_type": "markdown",
   "metadata": {
    "deletable": false,
    "editable": false,
    "nbgrader": {
     "cell_type": "markdown",
     "checksum": "6dc558dac359e451fab1d3ae6901febd",
     "grade": false,
     "grade_id": "cell-ba89c77174e63c22",
     "locked": true,
     "schema_version": 3,
     "solution": false,
     "task": false
    }
   },
   "source": [
    "#### 1.2 b) Plot singular value modes (1 point)\n",
    "Plot the dynamics of the singular value modes $a_\\alpha(t)$ and $b_\\alpha(t)$, together with the singular values $s_{\\alpha}$ of the covariance matrix $\\Sigma^{yx}$."
   ]
  },
  {
   "cell_type": "code",
   "execution_count": null,
   "metadata": {
    "deletable": false,
    "nbgrader": {
     "cell_type": "code",
     "checksum": "b045edc5c8cace986d7dce988762704d",
     "grade": true,
     "grade_id": "cell-3ad4b0f63957a675",
     "locked": false,
     "points": 1,
     "schema_version": 3,
     "solution": true,
     "task": false
    }
   },
   "outputs": [],
   "source": [
    "# YOUR CODE HERE\n",
    "raise NotImplementedError()"
   ]
  },
  {
   "cell_type": "markdown",
   "metadata": {
    "deletable": false,
    "editable": false,
    "nbgrader": {
     "cell_type": "markdown",
     "checksum": "216c0911ab78ed9888eeb10dfa316da7",
     "grade": false,
     "grade_id": "cell-03418ea394e8a1a7",
     "locked": true,
     "schema_version": 3,
     "solution": false,
     "task": false
    }
   },
   "source": [
    "#### 1.2 c) Discuss your results (1 point)\n",
    "How do the singular value modes between the *deep* and *shallow* network compare to each other and to the singular values of the input-output covariance matrix?"
   ]
  },
  {
   "cell_type": "markdown",
   "metadata": {
    "deletable": false,
    "nbgrader": {
     "cell_type": "markdown",
     "checksum": "871c090c7737d031d58a9630cb44ad0c",
     "grade": true,
     "grade_id": "cell-85ad80140d94f58b",
     "locked": false,
     "points": 1,
     "schema_version": 3,
     "solution": true,
     "task": false
    }
   },
   "source": [
    "YOUR ANSWER HERE"
   ]
  },
  {
   "cell_type": "markdown",
   "metadata": {
    "deletable": false,
    "editable": false,
    "nbgrader": {
     "cell_type": "markdown",
     "checksum": "d589d0c09adbc2735959c8b2f051d783",
     "grade": false,
     "grade_id": "instructions_1-3",
     "locked": true,
     "schema_version": 3,
     "solution": false,
     "task": false
    }
   },
   "source": [
    "### 1.3 Compare simulation and theory\n",
    "For the linear neural networks which you implemented here, the singular value mode dynamics can be computed analytically. The analytical solutions are:\n",
    "\n",
    "- For the *deep* network:\n",
    "\n",
    "$$\n",
    "a_\\alpha(t) = \\frac{s_\\alpha e^{2s_\\alpha t/\\tau}}{e^{2s_\\alpha t/\\tau} - 1 + s_\\alpha/a^0_\\alpha}\n",
    "$$\n",
    "\n",
    "- For the *shallow* network:\n",
    "\n",
    "$$\n",
    "b_\\alpha(t) = s_\\alpha(1-e^{-t/\\tau}) + b_\\alpha^0e^{-t/\\tau}\n",
    "$$"
   ]
  },
  {
   "cell_type": "markdown",
   "metadata": {
    "deletable": false,
    "editable": false,
    "nbgrader": {
     "cell_type": "markdown",
     "checksum": "fffb0dd156344e22bd2acfb08e97b7e5",
     "grade": false,
     "grade_id": "instructions_1-3-a",
     "locked": true,
     "schema_version": 3,
     "solution": false,
     "task": false
    }
   },
   "source": [
    "#### 1.3 a) Implement the analytical solutions (1 point)\n",
    "Compute the singular value mode dynamics (for different time steps between $t = 0$  and $t = T$) using the analytic solutions with $a_\\alpha^0 = b_\\alpha^0 = 0.001$.\n"
   ]
  },
  {
   "cell_type": "code",
   "execution_count": null,
   "metadata": {
    "deletable": false,
    "nbgrader": {
     "cell_type": "code",
     "checksum": "f71c70cdbec87d7550b9fba4edba77c7",
     "grade": true,
     "grade_id": "cell-11833a995822dc15",
     "locked": false,
     "points": 1,
     "schema_version": 3,
     "solution": true,
     "task": false
    }
   },
   "outputs": [],
   "source": [
    "# YOUR CODE HERE\n",
    "raise NotImplementedError()"
   ]
  },
  {
   "cell_type": "markdown",
   "metadata": {
    "deletable": false,
    "editable": false,
    "nbgrader": {
     "cell_type": "markdown",
     "checksum": "50918bbe35e0c041a227dc88f357219c",
     "grade": false,
     "grade_id": "instructions_1-3-b",
     "locked": true,
     "schema_version": 3,
     "solution": false,
     "task": false
    }
   },
   "source": [
    "#### 1.3 b) Plot analytical and empirical singulare value dynamics (1 point)\n",
    "Plot the analytically calculated singular value mode dynamics together with the empirical ones simulated in the previous section."
   ]
  },
  {
   "cell_type": "code",
   "execution_count": null,
   "metadata": {
    "deletable": false,
    "nbgrader": {
     "cell_type": "code",
     "checksum": "0b1afe5668c395bf981bb5da2f4bde95",
     "grade": true,
     "grade_id": "cell-28c643984d5e4caa",
     "locked": false,
     "points": 1,
     "schema_version": 3,
     "solution": true,
     "task": false
    }
   },
   "outputs": [],
   "source": [
    "# YOUR CODE HERE\n",
    "raise NotImplementedError()"
   ]
  },
  {
   "cell_type": "markdown",
   "metadata": {
    "deletable": false,
    "editable": false,
    "nbgrader": {
     "cell_type": "markdown",
     "checksum": "0a347dfa405973d365979dacba6a8c7c",
     "grade": false,
     "grade_id": "instructions_1-3-c",
     "locked": true,
     "schema_version": 3,
     "solution": false,
     "task": false
    }
   },
   "source": [
    "#### 1.3 c) Discuss your results (1 point)\n",
    "How well do theory and simulation align?"
   ]
  },
  {
   "cell_type": "markdown",
   "metadata": {
    "deletable": false,
    "nbgrader": {
     "cell_type": "markdown",
     "checksum": "fbea00eeb158a043045f35d0e2d027c0",
     "grade": true,
     "grade_id": "cell-8396cc513cda391f",
     "locked": false,
     "points": 1,
     "schema_version": 3,
     "solution": true,
     "task": false
    }
   },
   "source": [
    "YOUR ANSWER HERE"
   ]
  },
  {
   "cell_type": "markdown",
   "metadata": {
    "deletable": false,
    "editable": false,
    "nbgrader": {
     "cell_type": "markdown",
     "checksum": "a7d02d4a8e2fc5fc0493e9bad19b83c3",
     "grade": false,
     "grade_id": "instructions-2",
     "locked": true,
     "schema_version": 3,
     "solution": false,
     "task": false
    }
   },
   "source": [
    "---\n",
    "\n",
    "## Exercise 2: Deeper (non-)linear networks with automatic differentiation (10 points)\n",
    "\n",
    "In this exercise we will probe whether the theoretical results \\& insights from the previous exercise translate to deeper linear networks as well as non-linear networks.\n",
    "\n",
    "Deep Learning is powered by reverse mode automatic differentiation, computational graphs \\& stochastic gradient descent algorithms.\n",
    "We will use the Python library PyTorch for automatic differenatiation due to its easy installation, documentation \\& recent popularity in academic research. If you are unfamiliar with PyTorch, you might find [this introductions](https://pytorch.org/tutorials/beginner/blitz/neural_networks_tutorial.html) useful. Don't worry, the trained networks are fairly small, do not involve convolutions \\& can therefore easily be trained on any CPU.\n",
    "\n",
    "You can install PyTorch e.g. via `pip install pytorch` or `conda install pytorch`. If it doesn't work out of the box or if you want to have GPU support, you can find a suitable installation command at https://pytorch.org/."
   ]
  },
  {
   "cell_type": "code",
   "execution_count": 5,
   "metadata": {
    "deletable": false,
    "editable": false,
    "nbgrader": {
     "cell_type": "code",
     "checksum": "ab91f9ba411f2135bd2b978b39eeb796",
     "grade": false,
     "grade_id": "cell-711863766a1ce74f",
     "locked": true,
     "schema_version": 3,
     "solution": false,
     "task": false
    }
   },
   "outputs": [],
   "source": [
    "# Necessary imports for this exercise, you can't modify these\n",
    "from collections import OrderedDict\n",
    "\n",
    "try:\n",
    "    import torch\n",
    "except ModuleNotFoundError:\n",
    "    raise ModuleNotFoundError(\n",
    "        \"You need pytorch for this exercise. See installation instructions above.\"\n",
    "    )\n",
    "\n",
    "import torch.nn as nn\n",
    "    \n",
    "from helpers import DiffuseTreeSampler"
   ]
  },
  {
   "cell_type": "markdown",
   "metadata": {
    "deletable": false,
    "editable": false,
    "nbgrader": {
     "cell_type": "markdown",
     "checksum": "c9426dad7ef735e827c3f4bc3b064479",
     "grade": false,
     "grade_id": "instructions-2-0",
     "locked": true,
     "schema_version": 3,
     "solution": false,
     "task": false
    }
   },
   "source": [
    "### 2.0 Data generation and PyTorch examples (0 points)\n",
    "\n",
    "This section will give an example for how to create a neural network with PyTorch and how to generate data to train it in the following exercises."
   ]
  },
  {
   "cell_type": "markdown",
   "metadata": {
    "deletable": false,
    "editable": false,
    "nbgrader": {
     "cell_type": "markdown",
     "checksum": "3c9e2a648fdeb9eef93ba5f4dd883acb",
     "grade": false,
     "grade_id": "instructions-2-0-a",
     "locked": true,
     "schema_version": 3,
     "solution": false,
     "task": false
    }
   },
   "source": [
    "#### 2.0 a) Generating data with `DiffuseTreeSampler`\n",
    "\n",
    "In order to train a neural network on the same kind of task as was done in exercise 1, we need a data set $\\{\\bf{x}^\\alpha, y^\\alpha\\}_{\\alpha = 1, \\cdots, N}$ with $N$ data samples, each consisting of an item vector $\\bf{x}^\\alpha$ (the input to our network) and its associated property or feature vector $\\bf{y}^\\alpha$ (the output of our network). We will use the `DiffuseTreeSampler` class to generate such data throughout this exercise. It is defined in `./helpers.py` and implements a hierarchical data-generation process (**no need to implement anything from scratch, you can just used it as shown below**).\n",
    "\n",
    "The hierarchically structured data is generated through a branching diffusion\n",
    "process (see image below). To generate a single feature $y_i^\\alpha$ for multiple items $\\alpha$, an initial binary value is determined through a coin flip at the top of the hierarchy. The sign of this value flips with a small probability along each link in the tree. At the bottom, this yields the value of one feature $y_i^\\alpha$ across items $\\alpha$. Many features are generated by repeatedly sampling from this process independently. The $\\pm 1$ values depicted in the figure below are one possible sampling.\n",
    "\n",
    "<img src=\"diffusion-tree-sampler.png\" width=\"400\">\n",
    "\n",
    "This figure comes from the Supplementary Information in [Saxe et al. (2019)](https://www.pnas.org/content/116/23/11537), where you can find more information on this process.\n",
    "\n",
    "Below is an example on how to generate data with the `DiffuseTreeSampler` class and how to compute the singular values for the generated data set. The hierarchical structue in the data can be visualized by plotting the covariance matrix of the features.\n",
    "\n",
    "Vary the parameters of the `DiffuseTreeSampler` and see how that changes the structre in the generated data."
   ]
  },
  {
   "cell_type": "code",
   "execution_count": 7,
   "metadata": {},
   "outputs": [
    {
     "name": "stdout",
     "output_type": "stream",
     "text": [
      "Number of data samples: 64\n",
      "Feature vector dimension: 100\n",
      "Item vector dimension: 64\n",
      "\n",
      "First feature vector:\n",
      "[ 1  1 -1  1  1  1 -1 -1  1  1  1 -1  1  1  1 -1  1  1 -1  1 -1 -1  1 -1\n",
      " -1 -1 -1  1 -1 -1  1 -1  1  1  1  1  1  1 -1 -1  1  1  1 -1 -1  1 -1 -1\n",
      " -1 -1  1  1 -1  1  1  1 -1 -1  1  1 -1 -1  1 -1  1 -1 -1  1 -1 -1 -1 -1\n",
      "  1  1  1  1  1 -1  1  1 -1  1  1 -1  1  1  1  1  1 -1 -1  1  1  1  1  1\n",
      " -1 -1 -1  1]\n",
      "\n",
      "First item vector:\n",
      "[1. 0. 0. 0. 0. 0. 0. 0. 0. 0. 0. 0. 0. 0. 0. 0. 0. 0. 0. 0. 0. 0. 0. 0.\n",
      " 0. 0. 0. 0. 0. 0. 0. 0. 0. 0. 0. 0. 0. 0. 0. 0. 0. 0. 0. 0. 0. 0. 0. 0.\n",
      " 0. 0. 0. 0. 0. 0. 0. 0. 0. 0. 0. 0. 0. 0. 0. 0.]\n"
     ]
    },
    {
     "data": {
      "image/png": "[encoded data removed]",
      "text/plain": [
       "<Figure size 288x288 with 1 Axes>"
      ]
     },
     "metadata": {
      "needs_background": "light"
     },
     "output_type": "display_data"
    }
   ],
   "source": [
    "# Create the dataset by instantiating and sampling\n",
    "hierarchical_tree = DiffuseTreeSampler(feature_dim=100, tree_depth=3,\n",
    "                                       branching_factor=4, sample_epsilon=0.05)\n",
    "features, items = hierarchical_tree.sample_data()\n",
    "\n",
    "assert features.shape[0] == items.shape[0]\n",
    "print(f\"Number of data samples: {features.shape[0]}\")\n",
    "print(f\"Feature vector dimension: {features.shape[1]}\")\n",
    "print(f\"Item vector dimension: {items.shape[1]}\\n\")\n",
    "print(f\"First feature vector:\\n{features[0]}\\n\")\n",
    "print(f\"First item vector:\\n{items[0]}\")\n",
    "plt.matshow(np.cov(features))\n",
    "plt.title(\"Item covariance matrix\");"
   ]
  },
  {
   "cell_type": "code",
   "execution_count": 100,
   "metadata": {},
   "outputs": [],
   "source": [
    "# Compute the singular values of the generated dataset\n",
    "sigma_yx = features.T @ items\n",
    "U, s, V = np.linalg.svd(sigma_yx, full_matrices=True)"
   ]
  },
  {
   "cell_type": "markdown",
   "metadata": {
    "deletable": false,
    "editable": false,
    "nbgrader": {
     "cell_type": "markdown",
     "checksum": "00ed5c43a8d4aa8ded94063d360c8e93",
     "grade": false,
     "grade_id": "cell-3d8807025aa85b3f",
     "locked": true,
     "schema_version": 3,
     "solution": false,
     "task": false
    }
   },
   "source": [
    "#### 2.0 b) PyTorch example for a feedforward neural network\n",
    "\n",
    "Here, you can see an example of a feedforward neural network defined in PyTorch and how it can be trained on the data we generated in the previous section. The important steps shown below are:\n",
    "\n",
    "1. Define a neural network architecture (here a single hidden layer with ReLU activation function). In PyTorch, this is done by inheriting from the [`nn.Module`](https://pytorch.org/docs/stable/generated/torch.nn.Module.html) class and implementing the `forward` method, which should generate the network output for a given input."
   ]
  },
  {
   "cell_type": "code",
   "execution_count": 101,
   "metadata": {
    "deletable": false,
    "editable": false,
    "nbgrader": {
     "cell_type": "code",
     "checksum": "afcda5975d43e317f725108384b1925d",
     "grade": false,
     "grade_id": "cell-8bc195cc22795f86",
     "locked": true,
     "schema_version": 3,
     "solution": false,
     "task": false
    }
   },
   "outputs": [],
   "source": [
    "class ExampleNetwork(nn.Module):\n",
    "    \"\"\"\n",
    "    This is a deep neural network in PyTorch. In this case with a single hidden layer\n",
    "    with ReLU activation function.\n",
    "    \"\"\"\n",
    "    def __init__(self, input_dim, output_dim):\n",
    "        \"\"\"\n",
    "        This is the class constructor. It is called when you intantiate an instance of\n",
    "        this class.\n",
    "        \n",
    "        Parameters\n",
    "        ----------\n",
    "        input_dim : float\n",
    "            Dimension of the network input\n",
    "        output_dim : float\n",
    "            Dimension of the network output\n",
    "        \n",
    "        Example\n",
    "        -------\n",
    "        >>> network_instance = ExampleNetwork()\n",
    "        \"\"\"\n",
    "        \n",
    "        # Call the constructor (`__init__`) of the parent class (nn.Module)\n",
    "        super().__init__()\n",
    "\n",
    "        # Define a dictionary that collects the different layers.\n",
    "        # Afterwards, this dictionary provides the input to the nn.Sequential model\n",
    "        layers = OrderedDict()\n",
    "        layers[\"input_to_hidden\"] = nn.Linear(input_dim, 64, bias=False)\n",
    "        layers[\"input_to_hidden_activation\"] = nn.ReLU()\n",
    "        layers[\"hidden_to_output\"] = nn.Linear(64, output_dim, bias=False)\n",
    "        self.model = nn.Sequential(layers)\n",
    "        \n",
    "    def forward(self, input_tensor):\n",
    "        \"\"\"\n",
    "        This method implements the forward path of the neural network. Every PyTorch\n",
    "        network that inherits from `nn.Module` has to define this function.\n",
    "        \n",
    "        Parameters\n",
    "        ----------\n",
    "        input_tensor : torch.tensor\n",
    "            The input to the network\n",
    "            \n",
    "        Returns\n",
    "        -------\n",
    "        torch.tensor\n",
    "            The output of the network\n",
    "        \"\"\"\n",
    "        \n",
    "        # Propagate the input through the linear network\n",
    "        return self.model(input_tensor.float())"
   ]
  },
  {
   "cell_type": "markdown",
   "metadata": {
    "deletable": false,
    "editable": false,
    "nbgrader": {
     "cell_type": "markdown",
     "checksum": "1510431e83ba861f2eeaf10610674de2",
     "grade": false,
     "grade_id": "cell-304d3a49a540eb1c",
     "locked": true,
     "schema_version": 3,
     "solution": false,
     "task": false
    }
   },
   "source": [
    "2. Create a network instance, an optimizer object (here we use stochastic gradient descent ([`torch.optim.SGD`](https://pytorch.org/docs/stable/optim.html#torch.optim.SGD))) and a loss function (here we use mean squared error loss ([`nn.MSELoss`](https://pytorch.org/docs/stable/generated/torch.nn.MSELoss.html))."
   ]
  },
  {
   "cell_type": "code",
   "execution_count": 92,
   "metadata": {
    "deletable": false,
    "editable": false,
    "nbgrader": {
     "cell_type": "code",
     "checksum": "7a574976cd1434f3dbfc4523704f82d3",
     "grade": false,
     "grade_id": "cell-9913a70682f53871",
     "locked": true,
     "schema_version": 3,
     "solution": false,
     "task": false
    }
   },
   "outputs": [
    {
     "name": "stdout",
     "output_type": "stream",
     "text": [
      "The Network Architecture:\n",
      "\n",
      "ExampleNetwork(\n",
      "  (model): Sequential(\n",
      "    (input_to_hidden): Linear(in_features=64, out_features=64, bias=False)\n",
      "    (input_to_hidden_activation): ReLU()\n",
      "    (hidden_to_output): Linear(in_features=64, out_features=100, bias=False)\n",
      "  )\n",
      ")\n"
     ]
    }
   ],
   "source": [
    "input_dim = items.shape[1]\n",
    "output_dim = features.shape[1]\n",
    "\n",
    "learning_rate = 0.5\n",
    "network_instance = ExampleNetwork(input_dim, output_dim)\n",
    "sgd_optimizer = torch.optim.SGD(network_instance.parameters(), lr=learning_rate)\n",
    "\n",
    "mse_loss = nn.MSELoss()\n",
    "\n",
    "print(\"The Network Architecture:\\n\")\n",
    "print(network_instance)"
   ]
  },
  {
   "cell_type": "markdown",
   "metadata": {
    "deletable": false,
    "editable": false,
    "nbgrader": {
     "cell_type": "markdown",
     "checksum": "c499fe5e0dff7a17fce00b8f1f7bd3af",
     "grade": false,
     "grade_id": "cell-26eaca3f8838d0fd",
     "locked": true,
     "schema_version": 3,
     "solution": false,
     "task": false
    }
   },
   "source": [
    "3. Perform a forward pass of the network to get predictions and calculate the loss. To perform the forward pass, the network instance has to be called directly with `network_instance()`. This will call the `nn.Module.__call__` method, which will use your `ExampleNetwork.forward` method to calculate the forward pass and will add some PyTorch magic that will compute the gradients for you.\n",
    "4. Reset any gradients that might have been stored before to $0$ and perform a backward pass to calculate the new gradients based on your last forward pass. Finally, perform one SGD optimization step to update your network parameters."
   ]
  },
  {
   "cell_type": "code",
   "execution_count": 21,
   "metadata": {
    "deletable": false,
    "editable": false,
    "nbgrader": {
     "cell_type": "code",
     "checksum": "da1bced62e53f6758c74bd3f90749f81",
     "grade": false,
     "grade_id": "cell-1c0080ecff5b4873",
     "locked": true,
     "schema_version": 3,
     "solution": false,
     "task": false
    }
   },
   "outputs": [
    {
     "name": "stdout",
     "output_type": "stream",
     "text": [
      "The MSE Loss for the 1st data point is 1.001\n",
      "Gradients input to hidden weights after reset: None\n",
      "Gradient sum input to hidden weights after backward pass: -0.006666247732937336\n"
     ]
    }
   ],
   "source": [
    "### 3.\n",
    "# Get the first feature and target from your dataset\n",
    "input_tensor = torch.tensor(items[0])\n",
    "y_true = torch.tensor(features[0]).float()\n",
    "\n",
    "# Perform a forward pass through the network\n",
    "y_hat = network_instance(input_tensor)\n",
    "\n",
    "# Calculate the loss for the first data point\n",
    "loss = mse_loss(y_hat, y_true)\n",
    "print(\"The MSE Loss for the 1st data point is {:.3f}\".format(loss)) \n",
    "\n",
    "### 4.\n",
    "# Reset gradients\n",
    "network_instance.zero_grad()\n",
    "gradient_sum_before = network_instance.model.input_to_hidden.weight.grad\n",
    "print(f\"Gradients input to hidden weights after reset: {gradient_sum_before}\")\n",
    "\n",
    "# Compute new gradients by performing a backword pass\n",
    "loss.backward()\n",
    "gradient_sum_after = network_instance.model.input_to_hidden.weight.grad.sum()\n",
    "print(f\"Gradient sum input to hidden weights after backward pass: {gradient_sum_after}\")\n",
    "\n",
    "# Update the weights using the SGD optimizer\n",
    "sgd_optimizer.step()"
   ]
  },
  {
   "cell_type": "markdown",
   "metadata": {
    "deletable": false,
    "editable": false,
    "nbgrader": {
     "cell_type": "markdown",
     "checksum": "4873c66baa89cd97806809cd80b73a99",
     "grade": false,
     "grade_id": "cell-2dae8cdffddd8564",
     "locked": true,
     "schema_version": 3,
     "solution": false,
     "task": false
    }
   },
   "source": [
    "### 2.1: Implement a variable depth deep linear network (1 point)\n",
    "Code a variable depth deep linear network class that takes as an input a list of hidden units for each layer (e.g. `hidden_units=[16, 32, 32, 16]`). Use the `DeepLinearNetwork` class skeleton defined below. In the `### YOUR CODE HERE` section, loop over the hidden layers in the network to define the full network architecture (use `nn.Linear` as already done for the first and last layers of the network)."
   ]
  },
  {
   "cell_type": "code",
   "execution_count": 49,
   "metadata": {
    "deletable": false,
    "nbgrader": {
     "cell_type": "code",
     "checksum": "9d0f16e906844780f6cdfec806efa1c7",
     "grade": false,
     "grade_id": "cell-e9132021e073cae2",
     "locked": false,
     "schema_version": 3,
     "solution": true,
     "task": false
    }
   },
   "outputs": [],
   "source": [
    "class DeepLinearNetwork(nn.Module):\n",
    "    \"\"\"\n",
    "    A deep liner neural network with a variable number of hidden layers\n",
    "    \"\"\"\n",
    "    def __init__(self, input_dim=64, output_dim=100, hidden_units=[64]):\n",
    "        \"\"\"\n",
    "        This is the class constructor. It is called when you intantiate an instance of\n",
    "        this class.\n",
    "        \n",
    "        Parameters\n",
    "        ----------\n",
    "        input_dim : float\n",
    "            Dimension of the network input\n",
    "        output_dim : float\n",
    "            Dimension of the network output\n",
    "        \"\"\"\n",
    "            \n",
    "        # Call the class constructor (__init__) of the parent class (nn.Module)\n",
    "        super().__init__()\n",
    "        \n",
    "        # Define a dictionary that collects the different layers\n",
    "        # This dictionary will provide the input to the nn.Sequential model\n",
    "        layers = OrderedDict()\n",
    "        layers[\"input_to_hidden\"] = nn.Linear(\n",
    "            input_dim, hidden_units[0], bias=False\n",
    "        )           \n",
    "        \n",
    "        \n",
    "        # YOUR CODE HERE\n",
    "        layers['hidden_0_activation'] = nn.ReLU()\n",
    "        \n",
    "        for i in range(len(hidden_units)-1):\n",
    "            name = 'hidden_' + str(i)\n",
    "            name_activation = 'hidden_' + str(i+1) + '_activation' \n",
    "            layers[name] = nn.Linear(hidden_units[i], hidden_units[i+1], bias=False)        \n",
    "            layers[name_activation] = nn.ReLU()  \n",
    "        \n",
    "        layers[\"hidden_to_output\"] = nn.Linear(\n",
    "            #hidden_units[-1], \n",
    "            hidden_units[-1],\n",
    "            output_dim, bias=False\n",
    "        )\n",
    "        self.model = nn.Sequential(layers)\n",
    "        \n",
    "    def forward(self, input_tensor):\n",
    "        \"\"\"\n",
    "        This method implements the forward path of the neural network. Every PyTorch\n",
    "        network that inherits from `nn.Module` has to define this function.\n",
    "        \n",
    "        Parameters\n",
    "        ----------\n",
    "        input_tensor : torch.tensor\n",
    "            The input to the network\n",
    "            \n",
    "        Returns\n",
    "        -------\n",
    "        torch.tensor\n",
    "            The output of the network\n",
    "        \"\"\"\n",
    "        \n",
    "        # Propagate the input through the linear network\n",
    "        return self.model(input_tensor.float())"
   ]
  },
  {
   "cell_type": "code",
   "execution_count": 43,
   "metadata": {
    "deletable": false,
    "editable": false,
    "nbgrader": {
     "cell_type": "code",
     "checksum": "0844fa487f5ddd6b3da8557b7c2c432d",
     "grade": true,
     "grade_id": "cell-050ae1339be2e5ae",
     "locked": true,
     "points": 1,
     "schema_version": 3,
     "solution": false,
     "task": false
    }
   },
   "outputs": [],
   "source": [
    "\"\"\" Test that the class is defined as instructed \"\"\"\n",
    "\n",
    "assert_var_defined(\"DeepLinearNetwork\", func=True)\n"
   ]
  },
  {
   "cell_type": "markdown",
   "metadata": {
    "deletable": false,
    "editable": false,
    "nbgrader": {
     "cell_type": "markdown",
     "checksum": "5a5c5491e524dd80d82b9c94b2224be4",
     "grade": false,
     "grade_id": "cell-8f10cb1c4916e6b3",
     "locked": true,
     "schema_version": 3,
     "solution": false,
     "task": false
    }
   },
   "source": [
    "### 2.2: Define the online gradient descent training loop (3 points)\n",
    "Complement the learning loop defined in the `train_network` function below. This will require multiple small steps:\n",
    "\n",
    "1. Shuffle the data ordering at the beginning of each training epoch.\n",
    "2. Perform the forward pass at each iteration for a selected input-target pair.\n",
    "3. Calculate the corresponding loss using the mean squared error (MSE) loss.\n",
    "4. Reset the parameter gradients, perform a backwards pass to calculate the current gradients \\& update the parameters with the help of an optimizer object."
   ]
  },
  {
   "cell_type": "code",
   "execution_count": 44,
   "metadata": {
    "deletable": false,
    "nbgrader": {
     "cell_type": "code",
     "checksum": "d068cc55a66fd5c8d46bc61e982ee9b2",
     "grade": false,
     "grade_id": "cell-ab40a468bf4b638a",
     "locked": false,
     "schema_version": 3,
     "solution": true,
     "task": false
    }
   },
   "outputs": [],
   "source": [
    "def train_network(network, loss_func, optimizer, num_epochs, inputs, targets):\n",
    "    \"\"\"\n",
    "    Train a neural network by running the training loop\n",
    "\n",
    "    Parameters\n",
    "    ----------\n",
    "    network : nn.Module\n",
    "        An instance of a PyTorch neural network class, that inherits from `nn.Module`,\n",
    "        e.g. an instance of the `DeepLinearNetwork` class.\n",
    "    loss_func : nn._Loss\n",
    "        A PyTorch loss criterion, e.g. an instance of `nn.MLELoss`, which measures the\n",
    "        mean squared error (MSE) between each element of two vectors.\n",
    "    optimizer : torch.optim.Optimizer\n",
    "        PyTorch optimizer object, e.g. an instance of `torch.optim.SGE`, which implements\n",
    "        stochastic gradien descent (SGD)\n",
    "    num_epochs : int\n",
    "        Number of training loops over the entire dataset\n",
    "    inputs : numpy.ndarray\n",
    "        Inputs used for training the network\n",
    "    targets : numpy.ndarray\n",
    "        Output targets for computing the training loss during training\n",
    "    \"\"\"\n",
    "    loss_log = []\n",
    "    log_singular_vals = []\n",
    "    num_points = targets.shape[0]\n",
    "\n",
    "    for epoch in range(num_epochs):\n",
    "        epoch_loss = 0\n",
    "        \n",
    "        ### 1. Shuffle the data ordering\n",
    "        # YOUR CODE HERE\n",
    "        idx_shuffled = np.arange(0, inputs.shape[0])\n",
    "        np.random.shuffle(idx_shuffled)\n",
    "        \n",
    "        inputs = inputs[idx_shuffled,:]\n",
    "        targets = targets[idx_shuffled,:]\n",
    "                \n",
    "        # Loop over all examples in an Online SGD Loop\n",
    "        for t in range(num_points):\n",
    "            # Extract the current training datapoint and transform it into a Torch Tensor\n",
    "            input_tensor = torch.tensor(inputs[t])\n",
    "            y_true = torch.tensor(targets[t]).float()\n",
    "                \n",
    "            ### 2. Perform the forward pass, which computes the prediction for the single\n",
    "            ###    datapoint y^hat\n",
    "            # YOUR CODE HERE\n",
    "            \n",
    "            y_hat = network(input_tensor)\n",
    "            \n",
    "            ### 3. Compute the corresponding loss\n",
    "            # YOUR CODE HERE\n",
    "            loss = mse_loss(y_hat, y_true)\n",
    "                     \n",
    "            # 4. Clear the gradients, Perform the backward pass, and SGD update\n",
    "            # YOUR CODE HERE\n",
    "            network.zero_grad()\n",
    "            \n",
    "            loss.backward()\n",
    "            \n",
    "            optimizer.step()\n",
    "            \n",
    "            # Update the epoch loss tracker\n",
    "            epoch_loss += loss.item()\n",
    "        \n",
    "        # Log the mean epoch loss & calculate the SVD\n",
    "        loss_log.append(epoch_loss/num_points)\n",
    "        # Note that `inputs` is a unit matrix\n",
    "        y_hat_full = network(torch.tensor(inputs)).detach().numpy()\n",
    "        U, s, V = np.linalg.svd(y_hat_full.T, full_matrices=True)\n",
    "        log_singular_vals.append(s)\n",
    "\n",
    "    return loss_log, np.array(log_singular_vals)"
   ]
  },
  {
   "cell_type": "code",
   "execution_count": 45,
   "metadata": {
    "deletable": false,
    "editable": false,
    "nbgrader": {
     "cell_type": "code",
     "checksum": "abd11abd1bb60cc911f0829f447bfa29",
     "grade": true,
     "grade_id": "cell-b7d568000b82a79a",
     "locked": true,
     "points": 3,
     "schema_version": 3,
     "solution": false,
     "task": false
    }
   },
   "outputs": [],
   "source": [
    "\"\"\" Test that the function is defined as instructed \"\"\"\n",
    "\n",
    "assert_var_defined(\"train_network\", func=True)\n"
   ]
  },
  {
   "cell_type": "markdown",
   "metadata": {
    "deletable": false,
    "editable": false,
    "nbgrader": {
     "cell_type": "markdown",
     "checksum": "fc08adc0ab1a3ba9269edf6d12969355",
     "grade": false,
     "grade_id": "cell-9a9e5fc4af6816d1",
     "locked": true,
     "points": 3,
     "schema_version": 3,
     "solution": false,
     "task": true
    }
   },
   "source": [
    "### 2.3 Generate a data set and train your deep linear network (3 points):\n",
    "Create a dataset by creating an instance of the `DiffuseTreeSampler` class and sampling from it. Afterwards, compute the SVD of $\\Sigma^{yx}$ and assert that $\\Sigma^x = \\mathbf{1}$. Then, train a deep linear network:\n",
    "\n",
    "1. Instantiate your `DeepLinearNetwork` with three hidden layers (`hidden_units=[64, 128, 128]`).\n",
    "2. Instantiate a stochastic gradient descent optimizer object with learning rate $\\eta = 0.5$.\n",
    "3. Define the mean squared error (MSE) loss function.\n",
    "4. Run the `train_network` loop for 200 epochs.\n",
    "\n",
    "After each epoch (loop over the entire dataset) compute the SVD of the covariance matrix $\\Sigma^{\\hat{y}x}$, which is (as in exercise 1) the product of the linear network weight matrices (since we have no input correlations). Note that in this case the product of weight matrices can be simply obtained by forward propagating a unit matrix through the network. Plot the evolution of the singular value modes over the course of the learning epochs as well as the static singular values of $\\Sigma^{yx}$.\n"
   ]
  },
  {
   "cell_type": "code",
   "execution_count": 50,
   "metadata": {
    "deletable": false,
    "nbgrader": {
     "cell_type": "code",
     "checksum": "3b5edfa02358c44603ef0903cf8e07af",
     "grade": true,
     "grade_id": "cell-aa2b73577e75eacd",
     "locked": false,
     "points": 0,
     "schema_version": 3,
     "solution": true,
     "task": false
    }
   },
   "outputs": [
    {
     "name": "stdout",
     "output_type": "stream",
     "text": [
      "(64, 64)\n"
     ]
    }
   ],
   "source": [
    "# YOUR CODE HERE\n",
    "hierarchical_tree = DiffuseTreeSampler(feature_dim=100, tree_depth=3,\n",
    "                                       branching_factor=4, sample_epsilon=0.05)\n",
    "features, items = hierarchical_tree.sample_data()\n",
    "\n",
    "sigma_yx = features.T @ items\n",
    "sigma_x = items.T @items\n",
    "print(sigma_x.shape)\n",
    "U, s, V = np.linalg.svd(sigma_yx, full_matrices=True)\n",
    "\n",
    "hidden_units = [64, 128, 128]\n",
    "\n",
    "input_dim = items.shape[1]\n",
    "output_dim = features.shape[1]\n",
    "\n",
    "learning_rate = 0.5\n",
    "network = DeepLinearNetwork(input_dim, output_dim, hidden_units)\n",
    "sgd_optimizer = torch.optim.SGD(network.parameters(), lr=learning_rate)\n",
    "\n",
    "mse_loss = nn.MSELoss()\n",
    "num_epoch = 200"
   ]
  },
  {
   "cell_type": "markdown",
   "metadata": {
    "deletable": false,
    "editable": false,
    "nbgrader": {
     "cell_type": "markdown",
     "checksum": "bfaa42c268908d4e53dad44ea2ee3704",
     "grade": false,
     "grade_id": "cell-fb494155de2fe7f4",
     "locked": true,
     "points": 3,
     "schema_version": 3,
     "solution": false,
     "task": true
    }
   },
   "source": [
    "### 2.4 Train a deep non-linear network (3 points)\n",
    "Do the results hold up for both deep linear and non-linear networks? Implement a ReLU activation after every linear layer and repeat the steps in exercise 2.3. Which singular values converge first?"
   ]
  },
  {
   "cell_type": "code",
   "execution_count": 51,
   "metadata": {
    "deletable": false,
    "nbgrader": {
     "cell_type": "code",
     "checksum": "b964a9549da443df579876857f3c12e1",
     "grade": true,
     "grade_id": "cell-46c47df521076fc9",
     "locked": false,
     "points": 0,
     "schema_version": 3,
     "solution": true,
     "task": false
    }
   },
   "outputs": [],
   "source": [
    "# YOUR CODE HERE\n",
    "a,b = train_network(network, mse_loss, sgd_optimizer, num_epoch, items, features)"
   ]
  },
  {
   "cell_type": "code",
   "execution_count": 52,
   "metadata": {},
   "outputs": [
    {
     "data": {
      "image/png": "[encoded data removed]",
      "text/plain": [
       "<Figure size 432x288 with 1 Axes>"
      ]
     },
     "metadata": {
      "needs_background": "light"
     },
     "output_type": "display_data"
    }
   ],
   "source": [
    "plt.plot(np.arange(num_epoch),b)\n",
    "plt.show()"
   ]
  },
  {
   "cell_type": "code",
   "execution_count": null,
   "metadata": {},
   "outputs": [],
   "source": []
  }
 ],
 "metadata": {
  "kernelspec": {
   "display_name": "Python 3",
   "language": "python",
   "name": "python3"
  },
  "language_info": {
   "codemirror_mode": {
    "name": "ipython",
    "version": 3
   },
   "file_extension": ".py",
   "mimetype": "text/x-python",
   "name": "python",
   "nbconvert_exporter": "python",
   "pygments_lexer": "ipython3",
   "version": "3.8.5"
  },
  "toc": {
   "base_numbering": 1,
   "nav_menu": {},
   "number_sections": false,
   "sideBar": true,
   "skip_h1_title": true,
   "title_cell": "Table of contents",
   "title_sidebar": "Contents",
   "toc_cell": true,
   "toc_position": {
    "height": "calc(100% - 180px)",
    "left": "10px",
    "top": "150px",
    "width": "217.54px"
   },
   "toc_section_display": true,
   "toc_window_display": true
  }
 },
 "nbformat": 4,
 "nbformat_minor": 5
}
